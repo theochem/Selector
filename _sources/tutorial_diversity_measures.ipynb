{
 "cells": [
  {
   "cell_type": "markdown",
   "metadata": {},
   "source": [
    "# Tutorial Diversity Measures\n",
    "\n",
    "This tutorial demonstrates how to quantify the diversity of selected subset with `diversity` module as implemented in\n",
    "`selector` package. The diversity measures are calculated based on the feature matrix of the selected subset."
   ]
  },
  {
   "cell_type": "code",
   "execution_count": 1,
   "metadata": {},
   "outputs": [],
   "source": [
    "import sys\n",
    "import warnings\n",
    "\n",
    "warnings.filterwarnings(\"ignore\")\n",
    "\n",
    "# uncomment the following line to run the code for your own project directory\n",
    "# sys.path.append(\"/Users/Someone/Documents/projects/Selector\")"
   ]
  },
  {
   "cell_type": "code",
   "execution_count": null,
   "metadata": {},
   "outputs": [],
   "source": [
    "import matplotlib.pylab as plt\n",
    "import numpy as np\n",
    "from sklearn.datasets import make_blobs\n",
    "from sklearn.metrics.pairwise import pairwise_distances\n",
    "from IPython.display import Markdown\n",
    "\n",
    "from selector.methods.distance import MaxMin, MaxSum, OptiSim, DISE\n",
    "from selector.measures.diversity import compute_diversity, hypersphere_overlap_of_subset"
   ]
  },
  {
   "cell_type": "markdown",
   "metadata": {},
   "source": [
    "## Utility Function for Showing Diversity Measures as A Table\n"
   ]
  },
  {
   "cell_type": "code",
   "execution_count": 3,
   "metadata": {},
   "outputs": [],
   "source": [
    "# define function to render tables easier\n",
    "\n",
    "\n",
    "def render_table(data, caption=None, decimals=3):\n",
    "    \"\"\"Renders a list of lists in ta markdown table for easy visualization.\n",
    "\n",
    "    Parameters\n",
    "    ----------\n",
    "    data : list of lists\n",
    "        The data to be rendered in a table, each inner list represents a row with the first row\n",
    "        being the header.\n",
    "    caption : str, optional\n",
    "        The caption of the table.\n",
    "    decimals : int, optional\n",
    "        The number of decimal places to round the data to.\n",
    "    \"\"\"\n",
    "\n",
    "    # check all rows have the same number of columns\n",
    "    if not all(len(row) == len(data[0]) for row in data):\n",
    "        raise ValueError(\"Expect all rows to have the same number of columns.\")\n",
    "\n",
    "    if caption is not None:\n",
    "        # check if caption is a string\n",
    "        if not isinstance(caption, str):\n",
    "            raise ValueError(\"Expect caption to be a string.\")\n",
    "        tmp_output = f\"**{caption}**\\n\\n\"\n",
    "\n",
    "    # get the width of each column (transpose the data list and get the max length of each new row)\n",
    "    colwidths = [max(len(str(s)) for s in col) + 2 for col in zip(*data)]\n",
    "\n",
    "    # construct the header row\n",
    "    header = f\"| {' | '.join(f'{str(s):^{w}}' for s, w in zip(data[0], colwidths))} |\"\n",
    "    tmp_output += header + \"\\n\"\n",
    "\n",
    "    # construct a separator row\n",
    "    separator = f\"|{'|'.join(['-' * w for w in colwidths])}|\"\n",
    "    tmp_output += separator + \"\\n\"\n",
    "\n",
    "    # construct the data rows\n",
    "    for row in data[1:]:\n",
    "        # round the data to the specified number of decimal places\n",
    "        row = [round(s, decimals) if isinstance(s, float) else s for s in row]\n",
    "        row_str = f\"| {' | '.join(f'{str(s):^{w}}' for s, w in zip(row, colwidths))} |\"\n",
    "        tmp_output += row_str + \"\\n\"\n",
    "\n",
    "    return display(Markdown(tmp_output))"
   ]
  },
  {
   "cell_type": "markdown",
   "metadata": {},
   "source": [
    "## Generating Data\n",
    "\n",
    "The data should be provided as:\n",
    "\n",
    "- either an array `X` of shape `(n_samples, n_features)` encoding `n_samples` samples (rows) each in `n_features`-dimensional (columns) feature space,\n",
    "- or an array `X_dist` of shape `(n_samples, n_samples)` encoding the distance (i.e., dissimilarity) between each pair of `n_samples` sample points.\n",
    "\n",
    "This data can be loaded from various file formats (e.g., csv, npz, txt, etc.) or generated using various libraries on the fly. In this tutorial, we use [`sklearn.datasets.make_blobs`](https://scikit-learn.org/stable/modules/generated/sklearn.datasets.make_blobs.html) to generate cluster(s) of `n_samples` points in 2-dimensions (`n-features=2`), so that it can be easily visualized. However, the same functionality can be applied to higher dimensional datasets.\n"
   ]
  },
  {
   "cell_type": "code",
   "execution_count": 4,
   "metadata": {},
   "outputs": [
    {
     "name": "stdout",
     "output_type": "stream",
     "text": [
      "Shape of data   =  (500, 20)\n",
      "Shape of labels =  (500,)\n",
      "Unique labels   =  [0 1 2]\n",
      "Cluster size    =  167\n",
      "Shape of the distance array =  (500, 500)\n"
     ]
    }
   ],
   "source": [
    "# generate n_sample data in 2D feature space forming 1 cluster\n",
    "X, labels = make_blobs(\n",
    "    n_samples=500,\n",
    "    n_features=20,\n",
    "    # centers=np.array([[0.0, 0.0]]),\n",
    "    random_state=42,\n",
    ")\n",
    "# binarize the fetures\n",
    "# Calculate median for each feature\n",
    "median_threshold = np.median(X, axis=0)\n",
    "X = (X > median_threshold).astype(int)\n",
    "\n",
    "# compute the (n_sample, n_sample) pairwise distance matrix\n",
    "X_dist = pairwise_distances(X, metric=\"euclidean\")\n",
    "\n",
    "print(\"Shape of data   = \", X.shape)\n",
    "print(\"Shape of labels = \", labels.shape)\n",
    "print(\"Unique labels   = \", np.unique(labels))\n",
    "print(\"Cluster size    = \", np.count_nonzero(labels == 0))\n",
    "print(\"Shape of the distance array = \", X_dist.shape)"
   ]
  },
  {
   "cell_type": "markdown",
   "metadata": {},
   "source": [
    "## Perform the Subset Selection"
   ]
  },
  {
   "cell_type": "code",
   "execution_count": 5,
   "metadata": {},
   "outputs": [],
   "source": [
    "from scipy.spatial.distance import pdist, squareform\n",
    "\n",
    "# select data using distance base methods\n",
    "# ---------------------------------------\n",
    "size = 50\n",
    "\n",
    "collector = MaxMin()\n",
    "index_maxmin = collector.select(X_dist, size=size)\n",
    "\n",
    "collector = MaxSum(fun_dist=lambda x: squareform(pdist(x, metric=\"minkowski\", p=0.1)))\n",
    "index_maxsum = collector.select(X, size=size)\n",
    "\n",
    "collector = OptiSim(ref_index=0, tol=0.1)\n",
    "index_optisim = collector.select(X_dist, size=size)\n",
    "\n",
    "collector = DISE(ref_index=0, p=2.0)\n",
    "index_dise = collector.select(X, size=size)"
   ]
  },
  {
   "cell_type": "code",
   "execution_count": 6,
   "metadata": {},
   "outputs": [
    {
     "data": {
      "text/markdown": [
       "**Diversity of Selected Sets**\n",
       "\n",
       "|           |        logdet        |         wdud          |   shannon_entropy    |  hypersphere_overlap  |\n",
       "|---------|--------------------|---------------------|--------------------|---------------------|\n",
       "|  MaxMin   |        44.143        |         0.273         |        18.637        |       1299.615        |\n",
       "|  MaxSum   |        33.938        |         0.261         |        19.379        |       4396.672        |\n",
       "|  OptiSim  |        43.734        |         0.254         |        19.758        |        1175.49        |\n",
       "|   DISE    |        45.402        |         0.268         |        18.958        |       1363.434        |\n"
      ],
      "text/plain": [
       "<IPython.core.display.Markdown object>"
      ]
     },
     "metadata": {},
     "output_type": "display_data"
    }
   ],
   "source": [
    "div_measure = [\"logdet\", \"wdud\", \"shannon_entropy\", \"hypersphere_overlap\"]\n",
    "seleced_sets = zip(\n",
    "    [\"MaxMin\", \"MaxSum\", \"OptiSim\", \"DISE\"],\n",
    "    [index_maxmin, index_maxsum, index_optisim, index_dise],\n",
    ")\n",
    "\n",
    "# compute the diversity of the selected sets and render the results in a table\n",
    "table_data = [[\"\"] + div_measure]\n",
    "for i in seleced_sets:\n",
    "    div_data = [i[0]]\n",
    "    for m in div_measure:\n",
    "        if m != \"hypersphere_overlap\":\n",
    "            div_data.append(compute_diversity(X[i[1]], div_type=m))\n",
    "        else:\n",
    "            div_data.append(hypersphere_overlap_of_subset(x=X, x_subset=X[i[1]]))\n",
    "    table_data.append(div_data)\n",
    "\n",
    "render_table(table_data, caption=\"Diversity of Selected Sets\")"
   ]
  }
 ],
 "metadata": {
  "kernelspec": {
   "display_name": "selector_div",
   "language": "python",
   "name": "python3"
  },
  "language_info": {
   "codemirror_mode": {
    "name": "ipython",
    "version": 3
   },
   "file_extension": ".py",
   "mimetype": "text/x-python",
   "name": "python",
   "nbconvert_exporter": "python",
   "pygments_lexer": "ipython3",
   "version": "3.11.9"
  }
 },
 "nbformat": 4,
 "nbformat_minor": 2
}
