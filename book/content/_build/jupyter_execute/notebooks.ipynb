{
 "cells": [
  {
   "cell_type": "markdown",
   "metadata": {},
   "source": [
    "# Welcome to Diverse Selector\n",
    "\n",
    "You can also create content with Jupyter Notebooks. This means that you can include\n",
    "code blocks and their outputs in your book.\n",
    "\n",
    "## Discover the Power of Diversity in Molecule Selection\n",
    "\n",
    "Are you struggling to find the optimal subset of molecules for your research or development projects? Look no further! Diverse Selector is the ultimate software package designed to help you effortlessly identify the most diverse subset of molecules from your dataset.\n",
    "\n",
    "## Why Diverse Selector?\n",
    "\n",
    "In the world of chemistry, selecting the right subset of molecules is critical for a wide range of applications, including drug discovery, materials science, and molecular optimization. Diverse Selector offers a cutting-edge solution to streamline this process, empowering researchers, scientists, and developers to make smarter decisions faster.\n",
    "\n",
    "## Key Features:\n",
    "1. Import Your Dataset: Simply import your molecule dataset in various file formats, including SDF, SMILES, and InChi, to get started.\n",
    "2. Define Selection Criteria: Specify the desired level of diversity and other relevant parameters to tailor the subset selection to your unique requirements.\n",
    "3. Run the Analysis: Let Diverse Selector's powerful algorithms process your dataset and efficiently select the most diverse molecules.\n",
    "4. Export: Explore the diverse subset and export the results for further analysis and integration into your projects."
   ]
  }
 ],
 "metadata": {
  "kernelspec": {
   "display_name": "Python 3 (ipykernel)",
   "language": "python",
   "name": "python3"
  },
  "language_info": {
   "codemirror_mode": {
    "name": "ipython",
    "version": 3
   },
   "file_extension": ".py",
   "mimetype": "text/x-python",
   "name": "python",
   "nbconvert_exporter": "python",
   "pygments_lexer": "ipython3",
   "version": "3.11.3"
  },
  "widgets": {
   "application/vnd.jupyter.widget-state+json": {
    "state": {},
    "version_major": 2,
    "version_minor": 0
   }
  }
 },
 "nbformat": 4,
 "nbformat_minor": 4
}