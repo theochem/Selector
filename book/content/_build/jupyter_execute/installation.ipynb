{
 "cells": [
  {
   "cell_type": "markdown",
   "id": "f1be9e2f",
   "metadata": {},
   "source": [
    "# Installation & Testing\n",
    "\n",
    "1. To install DiverseSelector using the conda package management system, install [miniconda](https://conda.io/miniconda.html) or [anaconda](https://www.anaconda.com/download) first, and then:\n",
    "\n",
    "```\n",
    "    # Create and activate myenv conda environment (optional, but recommended)\n",
    "    conda create -n myenv python=3.6\n",
    "    conda activate myenv\n",
    "\n",
    "    # Install the stable release.\n",
    "    conda install -c theochem qc-\n",
    "```\n",
    "2. To install DiverseSelector with pip, you may want to create a [virtual environment](https://docs.python.org/3/tutorial/venv.html), and then:\n",
    "\n",
    "```\n",
    "    # Install the stable release.\n",
    "    pip install qc-\n",
    "```\n",
    "\n",
    "# Dependencies\n",
    "\n",
    "The following dependencies are required to run DiverseSelector properly,\n",
    "\n",
    "* Python >= 3.6: http://www.python.org/ \n",
    "* NumPy >= 1.21.5: http://www.numpy.org/\n",
    "* SciPy >= 1.5.0: http://www.scipy.org/\n",
    "* PyTest >= 5.3.4: https://docs.pytest.org/\n",
    "* PyTest-Cov >= 2.8.0: https://pypi.org/project/pytest-cov/\n",
    "\n",
    "# Testing\n",
    "\n",
    "The tests are automatically run when we build packages with conda, but you may try them again on your own machine after installation.\n",
    "\n",
    "With Ana- or Miniconda:\n",
    "```\n",
    "# Install pytest in your conda env.\n",
    "conda install pytest pytest-xdist\n",
    "# Then run the tests.\n",
    "pytest --pyargs diverseselector -n auto\n",
    "```\n",
    "\n",
    "With Pip:\n",
    "```\n",
    "# Install pytest in your conda env ...\n",
    "pip install pytest pytest-xdist\n",
    "# .. and refresh the virtual environment.\n",
    "# This is a venv quirk. Without it, pytest may not find IOData.\n",
    "deactivate && source ~/diverseselector/activate\n",
    "\n",
    "# Alternatively, install pytest in your home directory.\n",
    "pip install pytest pytest-xdist --user\n",
    "\n",
    "# Finally, run the tests.\n",
    "pytest --pyargs diverseselector -n auto\n",
    "```"
   ]
  }
 ],
 "metadata": {
  "kernelspec": {
   "display_name": "Python 3 (ipykernel)",
   "language": "python",
   "name": "python3"
  },
  "language_info": {
   "codemirror_mode": {
    "name": "ipython",
    "version": 3
   },
   "file_extension": ".py",
   "mimetype": "text/x-python",
   "name": "python",
   "nbconvert_exporter": "python",
   "pygments_lexer": "ipython3",
   "version": "3.9.7"
  }
 },
 "nbformat": 4,
 "nbformat_minor": 5
}